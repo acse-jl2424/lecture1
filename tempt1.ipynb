Create a new jupyter notebook in your repository and run it. 
